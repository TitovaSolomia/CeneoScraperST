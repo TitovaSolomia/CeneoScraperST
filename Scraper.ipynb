{
 "cells": [
  {
   "cell_type": "markdown",
   "metadata": {},
   "source": [
    "# Ceneo Scraper"
   ]
  },
  {
   "cell_type": "markdown",
   "metadata": {},
   "source": [
    "# Biblioteki"
   ]
  },
  {
   "cell_type": "code",
   "execution_count": null,
   "metadata": {},
   "outputs": [],
   "source": [
    "import requests \n",
    "from bs4 import BeautifulSoup"
   ]
  },
  {
   "cell_type": "markdown",
   "metadata": {},
   "source": [
    "# Wysyłanie do servera żądania dostępu do zasobu "
   ]
  },
  {
   "cell_type": "code",
   "execution_count": null,
   "metadata": {},
   "outputs": [],
   "source": [
    "product_id = \"94103927\"\n",
    "url = f\"https://www.ceneo.pl/{product_id}#tab=reviews\"\n",
    "response = requests.get(url)\n",
    "response.status_code"
   ]
  },
  {
   "cell_type": "code",
   "execution_count": null,
   "metadata": {},
   "outputs": [],
   "source": [
    "page_dom = BeautifulSoup(response.text, \"html.parser\")\n",
    "print(type (page_dom))\n",
    "opinions = page_dom.select(\"div.js_product-review\")\n",
    "print(type(opinions))\n",
    "opinion = page_dom.select_one(\"div.js_product-review\")\n",
    "print(type(opinion))\n",
    "print(opinion)"
   ]
  },
  {
   "cell_type": "markdown",
   "metadata": {},
   "source": [
    "## Ekstrakcja składowych pojedynczej opinii \n",
    "|Składowa|Selector|Zmienna|\n",
    "|--------|--------|-------|\n",
    "|id opinii|[\"data-entry-id\"] |opinion_id|\n",
    "|autor|span.user-post_author-name |author|\n",
    "|rekomendacja| span.user-post_author-recomendation >em |recomendation||\n",
    "|gwiazdki| span.user-post_score-count |rating|\n",
    "|treść| div.user-post_text |content|\n",
    "|lista zalet| div.review-feature_title-positives ~ div.review-features_item|pros|\n",
    "|lista wad| div.review-feature_title-negatives ~ div.review-features_item|cons|\n",
    "|dla ilu przydatna| button.votes-yes > span |useful|\n",
    "|dla ilu nieprzydatna| button.votes-no > span |useless|\n",
    "|data wystawienia|span.user-post_published > time:nth-child(1)['datetime'] |publish_date|\n",
    "|data zakupu| span.user-post_published > time:nth-child(2)['datetime'] |purshare_date|"
   ]
  },
  {
   "cell_type": "code",
   "execution_count": null,
   "metadata": {},
   "outputs": [],
   "source": [
    "opinion_id = opinion[\"data-entry-id\"]\n",
    "author = opinion.select_one(\".user-post_author-name\").text if opinion.select_one(\".user-post_author-name\") else None\n",
    "recomendation = opinion.select_one(\"span.user-post_author-recomendation > em\").text if opinion.select_one(\"span.user-post_author-recomendation > em\") else None\n",
    "rating = opinion.select_one(\"span.user-post_score-count\").text if opinion.select_one(\"span.user-post_score-count\") else None\n",
    "content = opinion.select_one(\"div.user-post_text\").text if opinion.select_one(\"div.user-post_text\") else None\n",
    "pros = [item.text for item in opinion.select(\"div.review-feature_title-positives ~ div.review-features_item\")]\n",
    "cons = [item.text for item in opinion.select(\"div.review-feature_title-negatives ~ div.review-features_item\")]\n",
    "useful = opinion.select_one(\"button.votes-yes > span\").text if opinion.select_one(\"button.votes-yes > span\") else None\n",
    "useless = opinion.select_one(\"button.votes-no > span\").text if opinion.select_one(\"button.votes-no > span\") else None\n",
    "publish_date = opinion.select_one(\"span.user-post_published > time:nth-child(1)\")[\"datetime\"] if opinion.select_one(\"span.user-post_published > time:nth-child(1)\") else None\n",
    "purshare_date = opinion.select_one(\"span.user-post_published > time:nth-child(2)\")[\"datetime\"] if opinion.select_one(\"span.user-post_published > time:nth-child(2)\") else None\n"
   ]
  }
 ],
 "metadata": {
  "kernelspec": {
   "display_name": ".venv",
   "language": "python",
   "name": "python3"
  },
  "language_info": {
   "codemirror_mode": {
    "name": "ipython",
    "version": 3
   },
   "file_extension": ".py",
   "mimetype": "text/x-python",
   "name": "python",
   "nbconvert_exporter": "python",
   "pygments_lexer": "ipython3",
   "version": "3.11.8"
  }
 },
 "nbformat": 4,
 "nbformat_minor": 2
}
