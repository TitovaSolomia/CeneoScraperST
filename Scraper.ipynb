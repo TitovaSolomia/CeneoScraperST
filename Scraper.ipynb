{
 "cells": [
  {
   "cell_type": "markdown",
   "metadata": {},
   "source": [
    "# Ceneo Scraper"
   ]
  },
  {
   "cell_type": "markdown",
   "metadata": {},
   "source": [
    "# Biblioteki"
   ]
  },
  {
   "cell_type": "code",
   "execution_count": 16,
   "metadata": {},
   "outputs": [],
   "source": [
    "import os\n",
    "import json\n",
    "import requests \n",
    "from bs4 import BeautifulSoup\n"
   ]
  },
  {
   "cell_type": "markdown",
   "metadata": {},
   "source": [
    "# Funkcja do"
   ]
  },
  {
   "cell_type": "code",
   "execution_count": 23,
   "metadata": {},
   "outputs": [],
   "source": [
    "def extract(ancestor, selector=None, attribute=None, return_list=False):\n",
    "    if selector:\n",
    "        if return_list:\n",
    "            if attribute:\n",
    "                return [tag[attribute].strip() for tag in ancestor.select(selector)]\n",
    "            return [tag.text.strip() for tag in ancestor.select(selector)]\n",
    "        \n",
    "        if attribute:\n",
    "            try:\n",
    "                return ancestor.select_one(selector)[attribute].strip()\n",
    "            except TypeError:\n",
    "                return None\n",
    "        try:\n",
    "            return ancestor.select_one(selector).text.strip()\n",
    "        except AttributeError:\n",
    "            return None\n",
    "    if attribute:\n",
    "        return ancestor[attribute].strip()\n",
    "    return ancestor.text.strip()   "
   ]
  },
  {
   "cell_type": "code",
   "execution_count": 18,
   "metadata": {},
   "outputs": [],
   "source": [
    "selector= {\n",
    "    \"opinion_id\" : (None, \"data-entry-id\"),\n",
    "    \"author\" : (\"span.user-post__author-name\",),\n",
    "    \"recomendation\" : (\"span.user-post__author-recomendation > em\",),\n",
    "    \"rating\" :  (\"span.user-post__score-count\",),\n",
    "    \"content\" : (\"div.user-post__text\",),\n",
    "    \"pros\" : (\"div.review-feature_title-positives ~ div.review-features_item\", None, True),\n",
    "    \"cons\" : (\"div.review-feature_title-negatives ~ div.review-features_item\", None, True),\n",
    "    \"useful\" : (\"button.vote-yes > span\",),\n",
    "    \"useless\" : ( \"button.vote-no > span\",),\n",
    "    \"publish_date\" : (\"span.user-post__published > time:nth-child(1)\",\"datetime\"),\n",
    "    \"purshare_date\" : (\"span.user-post__published > time:nth-child(2)\", \"datetime\"),\n",
    "    }"
   ]
  },
  {
   "cell_type": "markdown",
   "metadata": {},
   "source": [
    "# Wysyłanie do servera żądania dostępu do zasobu "
   ]
  },
  {
   "cell_type": "code",
   "execution_count": 19,
   "metadata": {},
   "outputs": [],
   "source": [
    "product_id = \"94103927\"\n",
    "url = f\"https://www.ceneo.pl/{product_id}#tab=reviews\"\n"
   ]
  },
  {
   "cell_type": "code",
   "execution_count": 24,
   "metadata": {},
   "outputs": [],
   "source": [
    "all_opinions = []\n",
    "while (url):\n",
    "    response = requests.get(url)\n",
    "    response.status_code\n",
    "    page_dom = BeautifulSoup(response.text, \"html.parser\")\n",
    "    opinions = page_dom.select(\"div.js_product-review\")\n",
    "\n",
    "    for opinion in opinions:\n",
    "        try:\n",
    "            single_opinion = {\n",
    "                key: extract(opinion, *value)\n",
    "                    for key, value in selector.items()\n",
    "            }\n",
    "            all_opinions.append(single_opinion)    \n",
    "        except (TypeError, AttributeError):\n",
    "            pass    \n",
    "    try:\n",
    "        url = \"https://www.ceneo.pl\"+extract(page_dom, \"a.pagination__next\", \"href\") \n",
    "    except TypeError:\n",
    "        url = None       "
   ]
  },
  {
   "cell_type": "markdown",
   "metadata": {},
   "source": [
    "## Ekstrakcja składowych pojedynczej opinii \n",
    "|Składowa|Selector|Zmienna|\n",
    "|--------|--------|-------|\n",
    "|id opinii|[\"data-entry-id\"] |opinion_id|\n",
    "|autor|span.user-post_author-name |author|\n",
    "|rekomendacja| span.user-post_author-recomendation >em |recomendation||\n",
    "|gwiazdki| span.user-post_score-count |rating|\n",
    "|treść| div.user-post_text |content|\n",
    "|lista zalet| div.review-feature_title-positives ~ div.review-features_item|pros|\n",
    "|lista wad| div.review-feature_title-negatives ~ div.review-features_item|cons|\n",
    "|dla ilu przydatna| button.votes-yes > span |useful|\n",
    "|dla ilu nieprzydatna| button.votes-no > span |useless|\n",
    "|data wystawienia|span.user-post_published > time:nth-child(1)['datetime'] |publish_date|\n",
    "|data zakupu| span.user-post_published > time:nth-child(2)['datetime'] |purshare_date|"
   ]
  },
  {
   "cell_type": "code",
   "execution_count": null,
   "metadata": {},
   "outputs": [],
   "source": [
    "if not os.path.exists(\"opinions\"):\n",
    "    os.mkdir(\"opinions\")\n",
    "with open(\"opinions/{product_id}.json\", \"w\", encoding=\"UTF-8\") as jsonfile:    \n",
    "    json.dump(all_opinions, jsonfile, indent = 4, ensure_ascii=False)"
   ]
  },
  {
   "cell_type": "code",
   "execution_count": null,
   "metadata": {},
   "outputs": [
    {
     "name": "stdout",
     "output_type": "stream",
     "text": [
      "38\n"
     ]
    }
   ],
   "source": [
    "print(len(all_opinions))"
   ]
  }
 ],
 "metadata": {
  "kernelspec": {
   "display_name": ".venv",
   "language": "python",
   "name": "python3"
  },
  "language_info": {
   "codemirror_mode": {
    "name": "ipython",
    "version": 3
   },
   "file_extension": ".py",
   "mimetype": "text/x-python",
   "name": "python",
   "nbconvert_exporter": "python",
   "pygments_lexer": "ipython3",
   "version": "3.11.9"
  }
 },
 "nbformat": 4,
 "nbformat_minor": 2
}
